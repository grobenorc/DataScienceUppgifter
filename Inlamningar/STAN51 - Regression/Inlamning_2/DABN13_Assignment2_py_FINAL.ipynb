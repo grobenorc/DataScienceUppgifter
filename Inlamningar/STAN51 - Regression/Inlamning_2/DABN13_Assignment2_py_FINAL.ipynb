{
 "cells": [
  {
   "cell_type": "markdown",
   "id": "ff03aa7d-85fe-44e9-ad19-19c845b9457c",
   "metadata": {},
   "source": [
    "# DABN13 - Assignment 2\n",
    "## Preamble: Predicting purchases in online shops. \n",
    "This assignment will be based on a dataset on online shopper purchase data which is available on the UC Irvine Machine Learning Library. A description of all variables is available [here  ](https://www.kaggle.com/henrysue/online-shoppers-intention). Among the 11 variables in the dataset, we will only use the three following:\n",
    "\n",
    " - **Revenue**: (TRUE/FALSE) Whether a purchase was made by a visitor to the online shop\n",
    " - **ProductRelated_Duration**: (numerical) Time spend on pages relevant/related to the product in question.\n",
    " - **ExitRate**: (numerical) The percentage of visits to the online shop that end with visiting the site of the product at issue.\n"
   ]
  },
  {
   "cell_type": "code",
   "execution_count": 1,
   "id": "6312ad4d-9bb5-4c6b-9aca-73068d5e3d83",
   "metadata": {},
   "outputs": [],
   "source": [
    "import numpy as np\n",
    "import pandas as pd\n",
    "import os\n",
    "import pyreadr as prdr"
   ]
  },
  {
   "cell_type": "markdown",
   "id": "90ff2b82-e37e-470d-a55f-16116de150c0",
   "metadata": {},
   "source": [
    "## Part 1: Logistic regression with `sklearn`\n",
    "\n",
    "In this basic part, we are getting some experience with using scikit-learn to learn logistic regressions. In the steps below, we will train a quite small logistic regression model with `Revenue` as output variable and the following inputs (in addition to the intercept):\n",
    "\n",
    "1. ` ExitRate ` without further transformation\n",
    "2. The (natural) logarithm of ` ProductRelated_Duration + 1 `"
   ]
  },
  {
   "cell_type": "markdown",
   "id": "9a17e9b0-43f6-490f-b292-2def4224a950",
   "metadata": {},
   "source": [
    "### Task 1a)\n",
    "First, we need to prepare our data. Conduct the following steps:\n",
    "\n",
    "1. Load the data into R and save it in an object called `shoppers`. The dataset is contained in a comma-separated spreadsheet. Accordingly, you will need to use the `read_csv()` command in Pandas.\n",
    "2. Use the `column` method on `shoppers` to change the variable name of `ExitRate` to `ER`. More specifically, you will need to rename a particular column of `shoppers`. \n",
    "3. Create a new variable `lPR_Dur` inside `shoppers` that contains the (natural) logarithm of  `ProductRelated_Duration + 1`."
   ]
  },
  {
   "cell_type": "code",
   "execution_count": 2,
   "id": "47c854c8-f1a6-4ff5-adb0-845ee7cf5cad",
   "metadata": {},
   "outputs": [],
   "source": [
    "os.chdir('C:/Users/claes/OneDrive/Universitet/DataScience Magisterprogram/STAN51 - Maskininlärning ur ett regressionperspektiv/Inlamningar/Inlamning_2')\n",
    "\n",
    "# 1.\n",
    "shoppers = pd.read_csv(\"online_shoppers_intention.csv\")\n",
    "\n",
    "# 2.\n",
    "shoppers = shoppers.rename(columns = {'ExitRates':'ER'})\n",
    "\n",
    "\n",
    "shoppers.columns\n",
    "# 3.\n",
    "shoppers['lPR_Dur'] = shoppers['ProductRelated_Duration'].apply(lambda x: np.log(x+1))\n"
   ]
  },
  {
   "cell_type": "markdown",
   "id": "ecc7f533-7912-45b8-a8e0-3536a6bd0dcc",
   "metadata": {},
   "source": [
    "### Task 1b)\n",
    "\n",
    "Technically, we could use the `statsmodels` package to learn a logistic regressions. However, the functionality of `statsmodels` addresses applications in classical statistics rather than machine learning. Since we want to use logistic regression as a supervised learning algorithm in order to predict the output of new data points, it is much wiser to switch to scikit-learn (`sklearn`). `sklearn` provides you with simple functions that implement model training, tuning and validation and therefore covers the entire spectrum of standard methods in supervised learning.\n",
    "\n",
    "Learning a logistic regression with `sklearn` works almost identically as with `statsmodels`. Do it as follows: \n",
    "\n",
    "1. Create a  Pandas series `y_1b` that contains the `Revenue` variable from `shoppers`\n",
    "2. Create a similar data frame `X_1b` whose columns are  ` ER `, ` lPR_Dur ` and the square of `lPR_Dur`.\n",
    "3. Instantiate a logistic regression model using the `LogisticRegression()` function from the `linear_model` module and save this model specification as `glm_spec_1b`. The function has an argument `penalty`. Set this argument to `None`. Furthermore ensure that an intercept is automatically added to the input variables.\n",
    "4. Apply the `fit()`-method to `glm_spec_1b` to learn the model and save the learned model as `glm_fit_1b`. Here, specify that the model is learned using with inputs `X_1b` and output `y_1b`.\n"
   ]
  },
  {
   "cell_type": "code",
   "execution_count": 3,
   "id": "4b4a8d78-597a-459f-bc78-0c38fd3f3d8a",
   "metadata": {},
   "outputs": [
    {
     "name": "stdout",
     "output_type": "stream",
     "text": [
      "[[-32.63987528  -0.58940172   0.06451171]]\n"
     ]
    }
   ],
   "source": [
    "# 1.\n",
    "y_1b = pd.Series(shoppers['Revenue'])\n",
    "\n",
    "# 2.\n",
    "X_1b = {'ER': shoppers['ER'], 'lPR_Dur': shoppers['lPR_Dur'], 'lPR_Dur_sq': shoppers['lPR_Dur']**2}\n",
    "X_1b = pd.DataFrame(X_1b)\n",
    "\n",
    "# 3.\n",
    "from sklearn.linear_model import LogisticRegression\n",
    "glm_spec_1b = LogisticRegression(penalty=None)\n",
    "\n",
    "# 4.\n",
    "glm_fit_1b = glm_spec_1b.fit(X_1b, y_1b)\n",
    "\n",
    "print(glm_fit_1b.coef_)"
   ]
  },
  {
   "cell_type": "markdown",
   "id": "36efb034-a558-4904-b5ae-613e5a03e175",
   "metadata": {},
   "source": [
    "### Task 1c) \n",
    "A fundamental principle of machine learning is that we divide the data available to us into different sets which we use for learning, model tuning and algorithm choice. \n",
    "\n",
    "`sklearn` makes this very simple for us since its `model_selection`-module contains the `train_test_split()` function. It returns splitted versions of all objects that you provide as inputs. I prepared a preliminary code chunk below that shows how you need to specify the desired splitted objects. Complete the code chunk by entering the inputs to `train_test_split()`. More specifically, provide\n",
    "\n",
    "1. the data objects before splitting in correct order,\n",
    "2. an argument that allocates 50% of all data points to the training data\n",
    "3. an argument that sets the initial state of the random number generator to 3 (we need this to ensure replicability). \n"
   ]
  },
  {
   "cell_type": "code",
   "execution_count": 4,
   "id": "eb3ddaf8-10e3-4bb2-860a-3986e89c4187",
   "metadata": {},
   "outputs": [],
   "source": [
    "from sklearn.model_selection import train_test_split\n",
    "\n",
    "X_1b_train, X_1b_test, y_1b_train, y_1b_test = train_test_split(X_1b, y_1b, test_size = 0.5, random_state=3)"
   ]
  },
  {
   "cell_type": "markdown",
   "id": "effd7a7e-7be6-459a-918d-6fae1dcde2f2",
   "metadata": {},
   "source": [
    "### Task 1d)\n",
    "Now, please refit the model from Task 1a using only your training data from Task 1c. Save the resulting learned model as `glm_fit_1d`."
   ]
  },
  {
   "cell_type": "code",
   "execution_count": 5,
   "id": "befc1502-1faf-436b-8624-575f88426474",
   "metadata": {},
   "outputs": [
    {
     "name": "stdout",
     "output_type": "stream",
     "text": [
      "[[-32.23990096  -0.68454114   0.07092482]]\n"
     ]
    }
   ],
   "source": [
    "glm_fit_1d = glm_spec_1b.fit(X_1b_train, y_1b_train)\n",
    "\n",
    "print(glm_fit_1d.coef_)"
   ]
  },
  {
   "cell_type": "markdown",
   "id": "2fa53b29-6bd5-40c0-a880-7580c943dba6",
   "metadata": {},
   "source": [
    "### Task 1e) \n",
    "Now that we have fitted our model, we want to evaluate its predictive performance on hold-out validation data. We have already created this test data in Task 1c as `y_1b_test` and `X_1b_test.`\n",
    "\n",
    "Before we can evaluate model performance, we first need to obtain predicted probabilities for purchases on the test data. Use the ` predict_proba() `-method on `glm_fit_1d` to obtain such predicted conditional probabilities from the model fit in Task 1d on the observations in our test set. Save them as `glm_prob_1e`\n",
    "\n",
    "According to the sklearn documentation, the columns of `glm_prob_1e` contain class probabilities where classes are ordered as they are in `glm_fit_1d.classes_`. Which column index contains the probabilities for class `True`? Write your answer into the string variable `which_column_truepreds_1e`\n",
    "\n"
   ]
  },
  {
   "cell_type": "code",
   "execution_count": 6,
   "id": "b34d0b8b-edc7-469d-96ab-f085dae9eff6",
   "metadata": {},
   "outputs": [
    {
     "name": "stdout",
     "output_type": "stream",
     "text": [
      "1, meaning the glm_prob_1e[:, 1]\n"
     ]
    }
   ],
   "source": [
    "glm_prob_1e = glm_fit_1d.predict_proba(X_1b_test)\n",
    "which_column_truepreds_1e = \"1, meaning the glm_prob_1e[:, 1]\"\n",
    "print(which_column_truepreds_1e)"
   ]
  },
  {
   "cell_type": "markdown",
   "id": "68324b30-692c-426c-bd3c-45f27dac2795",
   "metadata": {},
   "source": [
    "### Task 1f)\n",
    "In a next step, we apply a classification rule to map our predicted probabilities into class predictions. Our classification rule is to predict the most likely class.\n",
    "\n",
    "First, create a new vector ` glm_pred_1f ` which has as many elements as ` glm_prob_1e ` and which consists entirely of the logical statement `False` (without citation marks!) \n",
    "\n",
    "Second, replace `False` in ` glm_pred_1f ` with `True` for all elements where the corresponding predicted probability for category `True` exceeds the threshold used for the classifier mentioned above. You can do this by indexing `glm_pred_1e` using square brackets. Simply write a true-or-false (or logical) statement in the square brackets. For rows where it is true, the value of ` glm_pred_1f ` will be changed.\n",
    "\n",
    "Please additionally write the true-or-false statement that you use into the string variable ` logical_1f ` for the sake of making assignment evaluation simpler for us.\n",
    "\n",
    "*Note:* We could even get class predictions by applying the `predict()`-method to `glm_fit_1d`. However, that does not allow us to fully control the classification rule."
   ]
  },
  {
   "cell_type": "code",
   "execution_count": 7,
   "id": "2427d51e-44ba-4161-9aa2-06271d84e182",
   "metadata": {},
   "outputs": [
    {
     "name": "stdout",
     "output_type": "stream",
     "text": [
      "(array([False,  True]), array([6150,   15], dtype=int64))\n"
     ]
    }
   ],
   "source": [
    "# 1.\n",
    "glm_pred_1f = np.full(len(glm_prob_1e), fill_value = False)\n",
    "\n",
    "# 2.\n",
    "glm_pred_1f[np.where(glm_prob_1e[:,1] > 0.5)] = True # Threshold är alltså här 0.5\n",
    "\n",
    "print(np.unique(glm_pred_1f, return_counts=True)) \n",
    "\n",
    "# 3.\n",
    "logical_1f = \"np.where(glm_prob_1e[:,1] > 0.5)\""
   ]
  },
  {
   "cell_type": "markdown",
   "id": "0dfa8cef-d6a3-4822-97cb-5c46cd8097d1",
   "metadata": {},
   "source": [
    "### Task 1g)\n",
    "Choose an appropriate error function and write its name in the string variable `chosenerrfun_1g`. Then, use the objects created in the previous tasks of this part to obtain (overall) test error for the logistic regression model fitted in Task 1d."
   ]
  },
  {
   "cell_type": "code",
   "execution_count": 8,
   "id": "0d24da15-606a-4cef-82ad-16ae14da6c6e",
   "metadata": {},
   "outputs": [
    {
     "name": "stdout",
     "output_type": "stream",
     "text": [
      "0.8449310624493106\n"
     ]
    }
   ],
   "source": [
    "chosenerrfun_1g = \"Accuracy\"\n",
    "testerr_1g      = glm_fit_1d.score(X_1b_test, y_1b_test)\n",
    "print(testerr_1g)"
   ]
  },
  {
   "cell_type": "markdown",
   "id": "338e0142-c9f6-4e87-b998-bd092842e92a",
   "metadata": {},
   "source": [
    "## Part 2: Class-specific prediction errors\n",
    "\n",
    "This part is more advanced than parts 1 and 3. In classification problems, overall test error may not always be our primary concern. To get a more differentiated picture, confusion matrices and the ROC curve are useful tools. We will get both using the metric module of Scikit-learn which provides a large number of performance criteria for binary classification. \n"
   ]
  },
  {
   "cell_type": "markdown",
   "id": "f1debb5b-e443-400a-845d-b5b67c4c34d0",
   "metadata": {},
   "source": [
    "### Task 2a)\n",
    "A basic confusion matrix can easily be obtained using the `confusion_matrix` function of `sklearn.metrics`. This function only requires two inputs:\n",
    "\n",
    "1. The test outcomes\n",
    "2. The predicted class on the test set.\n",
    "\n",
    "Obtain the confusion matrix and save it as `confumat_2a`."
   ]
  },
  {
   "cell_type": "code",
   "execution_count": 9,
   "id": "82aaa594-ff61-4f8c-b8b8-448b9e3ecbc7",
   "metadata": {},
   "outputs": [
    {
     "name": "stdout",
     "output_type": "stream",
     "text": [
      "[[5204   10]\n",
      " [ 946    5]]\n"
     ]
    }
   ],
   "source": [
    "from sklearn.metrics import confusion_matrix\n",
    "\n",
    "confumat_2a = confusion_matrix(y_1b_test, glm_pred_1f)\n",
    "print(confumat_2a)"
   ]
  },
  {
   "cell_type": "markdown",
   "id": "4f8d7315-4754-4637-bad2-90715cc2b8cc",
   "metadata": {},
   "source": [
    "### Task 2b)\n",
    "The confusion matrix obtained in the last task is rather rudimentary. For this reason, we are now going to write a function which produces a more luxurious confusion matrix with additional performance measures. \n",
    "\n",
    "Below, I prepared a function that takes a true outcomes, predicted probabilities for the category of interest and a desired threshold probability for the classification rule as inputs and returns a dictionary object containing the corresponding confusion matrix, TPR, FPR and overall classification error. All that is left for you is the following tasks:\n",
    "\n",
    "1. Specify the row and column names of the confusion matrix correctly\n",
    "2. Use the four elements of `cmat` to calculate `FPR`, `TPR` and the classification error `error`."
   ]
  },
  {
   "cell_type": "code",
   "execution_count": 10,
   "id": "a72c23f2-24e8-45e6-b871-f189b96b97a9",
   "metadata": {},
   "outputs": [],
   "source": [
    "def  performancemetrics(y_true, y_prob, cutoff):\n",
    "    # Don't change the 2 rows below\n",
    "    y_pred       = np.greater(y_prob,cutoff)\n",
    "    cmat         = confusion_matrix(y_true,y_pred)\n",
    "\n",
    "    # 1.\n",
    "    column_names = [\"Negative\", \"Positive\"]\n",
    "    row_names    = [\"Negative\", \"Positive\"]\n",
    "\n",
    "    # 2.\n",
    "    FPR   =  cmat.ravel()[1] / (cmat.ravel()[1] + cmat.ravel()[0]) # FP / (FP+TN)\n",
    "    TPR   =  cmat.ravel()[3] / (cmat.ravel()[3] + cmat.ravel()[2]) # TP / (TP+FN)\n",
    "    error = (cmat[[1], [0]] + cmat[[0], [1]]) / cmat.sum() # 'False_positive + False_negative / N'\n",
    "    \n",
    "    # Don't change the two lines below\n",
    "    cmat         = pd.DataFrame(cmat, columns=column_names, index=row_names)\n",
    "    allresults = {'confusion_matrix': cmat, 'FPR':FPR, \"TPR\":TPR, 'classification_error':error}\n",
    "    return(allresults)"
   ]
  },
  {
   "cell_type": "markdown",
   "id": "436d2641-3b7a-4f39-baed-254eaa8d2a19",
   "metadata": {},
   "source": [
    "### Task 2c)\n",
    "\n",
    "Now save as `metrics_2c` the output of `performancemetrics()` with the prediction object of task 2a and a threshold probability of 50% as input. Additionally, answer two questions:\n",
    "\n",
    "1. Are you satisfied with the overall accuracy with which our model predicts purchases?\n",
    "2. Is the accuracy with which observed purchases are correctly predicted satisfactory? Assume here that we have considerable interest in predicting actual purchases correctly."
   ]
  },
  {
   "cell_type": "code",
   "execution_count": 11,
   "id": "7c2316ca-c3d5-4627-b76e-885e5ee8fd5b",
   "metadata": {},
   "outputs": [
    {
     "name": "stdout",
     "output_type": "stream",
     "text": [
      "{'confusion_matrix':           Negative  Positive\n",
      "Negative      5204        10\n",
      "Positive       946         5, 'FPR': 0.0019179133103183737, 'TPR': 0.005257623554153523, 'classification_error': array([0.15506894])}\n",
      "The overall accuracy of the model is approximately 84.8 %. If the goal was to try and max the overall accuracy of the model, then this would be satisfactory.\n",
      "\n",
      "However, when we take a look at which observed purchases were correctly predicted and realise that our True Positive Rate is merely ~0.5%, we realize that this is very unsatisfactory.\n"
     ]
    }
   ],
   "source": [
    "\n",
    "metrics_2c = performancemetrics(y_1b_test, glm_pred_1f, 0.5)\n",
    "print(metrics_2c)\n",
    "overall_acc_verdict2c      = \"The overall accuracy of the model is approximately 84.8 %. If the goal was to try and max the overall accuracy of the model, then this would be satisfactory.\"\n",
    "obs_purchase_acc_verdict2c = \"However, when we take a look at which observed purchases were correctly predicted and realise that our True Positive Rate is merely ~0.5%, we realize that this is very unsatisfactory.\"\n",
    "\n",
    "print(overall_acc_verdict2c)\n",
    "print(\"\")\n",
    "print(obs_purchase_acc_verdict2c)"
   ]
  },
  {
   "cell_type": "markdown",
   "id": "ede8e85a-d080-4767-ad6b-a9ea49984797",
   "metadata": {},
   "source": [
    "### Task 2d)\n",
    "\n",
    "Assume we would like to get a classifier that has relatively balanced class-specific performance. In other words, we want to choose a threshold such that TPR is approximately 1-FPR. In order to see the trade-offs that are available to us, we will look at a ROC curve.\n",
    "\n",
    "ROC curves can be plotted using the `RocCurveDisplay.from_predictions()` function in the sklearn metrics module. The inputs to this function are \n",
    "\n",
    "1. The test outcomes\n",
    "2. The predicted probabilities for class 1 on the test set.\n",
    "\n",
    "Use the code chunk below to plot a ROC curve. Then proceed with the rest of this task in the following text block."
   ]
  },
  {
   "cell_type": "code",
   "execution_count": 12,
   "id": "2bd638b2-9087-4ea6-b97e-42f28e6527c5",
   "metadata": {},
   "outputs": [
    {
     "data": {
      "text/plain": [
       "<sklearn.metrics._plot.roc_curve.RocCurveDisplay at 0x256c6737e80>"
      ]
     },
     "execution_count": 12,
     "metadata": {},
     "output_type": "execute_result"
    },
    {
     "data": {
      "image/png": "[encoded data removed]",
      "text/plain": [
       "<Figure size 640x480 with 1 Axes>"
      ]
     },
     "metadata": {},
     "output_type": "display_data"
    }
   ],
   "source": [
    "from sklearn.metrics import RocCurveDisplay\n",
    "RocCurveDisplay.from_predictions(y_1b_test, glm_prob_1e[:,1])"
   ]
  },
  {
   "cell_type": "markdown",
   "id": "996fd071-e433-4b7d-82a6-f7ae9ac67ba0",
   "metadata": {},
   "source": [
    "Unfortunately, the plotted ROC curve does not indicate the threshold value leading to a particular point on the curve. Fortunately, the information contained in a ROC curve can be obtained using the `roc_curve()` function in the sklearn metrics module.\n",
    "\n",
    "The inputs to  `roc_curve()` are true outputs and the predicted probabilities for class 1. Use the corresponding series from Part 1 of this assignment as function inputs and save the result as `roc_fpr_2d`, `roc_tpr_2d` and `roc_thresholds_2d`.\n",
    "\n",
    "Next, find the the threshold that balances class-specific performance best. You could do that by finding the index at which TPR and (1-FPR) are as close are possible. Then you simply return the value of `roc_thresholds_2d` at this index. State your chosen threshold in the  variable `opt_threshold_2d`. Round to two decimals, if needed."
   ]
  },
  {
   "cell_type": "code",
   "execution_count": 13,
   "id": "c7cd9f1e-9478-4064-a260-92ede98f9a14",
   "metadata": {},
   "outputs": [
    {
     "name": "stdout",
     "output_type": "stream",
     "text": [
      "0.18672528126393656\n"
     ]
    }
   ],
   "source": [
    "from sklearn.metrics import roc_curve\n",
    "\n",
    "# 1.\n",
    "roc_fpr_2d, roc_tpr_2d, roc_thresholds_2d = roc_curve(y_1b_test, glm_prob_1e[:,1])\n",
    "\n",
    "# pd.Series(abs(roc_tpr_2d -(1-roc_fpr_2d))).idxmin() # Här hittar vi index där abs( roc_tpr_2d -(1-roc_fpr_2d)) ) är som minst\n",
    "\n",
    "opt_threshold_2d = roc_thresholds_2d[pd.Series(abs(roc_tpr_2d -(1-roc_fpr_2d))).idxmin()]\n",
    "\n",
    "print(opt_threshold_2d)\n"
   ]
  },
  {
   "cell_type": "markdown",
   "id": "c3741fe7-a150-4ad2-b775-96e28809e13a",
   "metadata": {},
   "source": [
    "### Task 2e)\n",
    "To what extend does our chosen threshold from Task 2d compromise overall accuracy? To find this out, use your `performancemetrics()` function from Task 2b and save the output that you get with the threshold chosen in Task 2d as `metrics_2e`.\n",
    "\n",
    "Then, use the string variable `is_accuracy_compromised_2e` to discuss whether overall accuracy is noteably affected if we switch from a threshold probability of 50% to a value that balances class-specific prediction performance."
   ]
  },
  {
   "cell_type": "code",
   "execution_count": 14,
   "id": "f00e8b82-ac50-40fa-a2ff-0087412ff7de",
   "metadata": {},
   "outputs": [
    {
     "name": "stdout",
     "output_type": "stream",
     "text": [
      "{'confusion_matrix':           Negative  Positive\n",
      "Negative      3438      1776\n",
      "Positive       324       627, 'FPR': 0.34062140391254314, 'TPR': 0.6593059936908517, 'classification_error': array([0.3406326])}\n",
      "Accuracy is compromised where we can see that the classification-error has risen to ~0.34. On the other hand the model's capability of predicting actual purchases has improved dramatically.\n"
     ]
    }
   ],
   "source": [
    "metrics_2e = performancemetrics(y_1b_test, glm_prob_1e[:,1], cutoff = opt_threshold_2d)\n",
    "print(metrics_2e)\n",
    "\n",
    "is_accuracy_compromised_2e = \"Accuracy is compromised where we can see that the classification-error has risen to ~0.34. On the other hand the model's capability of predicting actual purchases has improved dramatically.\"\n",
    "print(is_accuracy_compromised_2e)"
   ]
  },
  {
   "cell_type": "markdown",
   "id": "d1d68ce5-28c7-472b-a1e3-07f1dc5dfc79",
   "metadata": {},
   "source": [
    "## Part 3: Multiclass logistic regression with `sklearn`\n",
    "\n",
    "We can use the `LogisticRegression` function from `sklearn` to learn models whose output variable has more than two categories. The data we are using to learn a multiclass logistic regression is drug consumption data. Our response variable is usage of drugs (Cocaine , Crack, Ecstasy, and Heroin) and we have three possible responses, \"never used\", \"used more than a year ago\", and \"used within a year\". As explanatory variables we have personality test data, demographic data, and consumption of chocolate, alcohol, and nicotine."
   ]
  },
  {
   "cell_type": "markdown",
   "id": "c44c0298-afb6-4b7d-b32d-15610d67931f",
   "metadata": {},
   "source": [
    "### Task 3a)\n",
    "\n",
    "Conduct the following steps to prepare your data:\n",
    "\n",
    "1. Load `drug_train.RDS` using the `read_r()` function in the `pyreadr` package and save it as a data frame `drug_data`. \n",
    "2. Extract the variable *drugs.usage* into a Pandas series called `y_3a`\n",
    "3. Create a Pandas dataframe `X_3a` containing all other variables in `drug_data`.  Note that you will need to transform categorical variables into indicator variables, e.g. using the `get_dummies()` function in Pandas."
   ]
  },
  {
   "cell_type": "code",
   "execution_count": 15,
   "id": "27776fed-bcd9-4b01-8ba2-ec14d9d4b846",
   "metadata": {},
   "outputs": [],
   "source": [
    "# 1.\n",
    "drug_data = prdr.read_r('drug_train.RDS')\n",
    "drug_data = drug_data[None]\n",
    "\n",
    "# 2.\n",
    "y_3a = pd.Series(drug_data['drugs.usage'])\n",
    "\n",
    "# 3.\n",
    "# Kategoriska variabler är:\n",
    "    # Chocolate.consumption  \n",
    "    # Alcohol.consumption\n",
    "    # Nicotine.consumption\n",
    "    # Ethnicity\n",
    "    # Fictitious.drug.Semeron.consumption \n",
    "\n",
    "X_3a = pd.get_dummies(drug_data.loc[:, drug_data.columns != 'drugs.usage'])\n"
   ]
  },
  {
   "cell_type": "markdown",
   "id": "ab1f2eb6-7279-431a-8341-a052389e69d5",
   "metadata": {},
   "source": [
    "### Task 3b)\n",
    "\n",
    "Specify and learn fit a multinomial logistic regression using `LogisticRegression()`. In the specification, choose no penalty and make sure an intercept is added. Additionally, set the `multi_class` argument to `'multinomial'`. Lastly, increase the number of iterations if this is needed for the learning algorithm to converge.\n",
    "\n",
    "Save the resulting object as `mlogit_fit_3b`."
   ]
  },
  {
   "cell_type": "code",
   "execution_count": 16,
   "id": "d1be9547-16aa-4004-9282-c14e267f3909",
   "metadata": {},
   "outputs": [
    {
     "name": "stdout",
     "output_type": "stream",
     "text": [
      "[[-5.60220635e-01 -4.00943368e-01  5.52563578e-02 -2.96961591e-01\n",
      "   4.31290717e-02  1.46668455e-01  7.71575421e-02 -9.66154689e-02\n",
      "  -1.10528197e-01 -5.53374981e-02  3.48085467e-01 -2.44795508e-01\n",
      "  -4.65142286e-01  2.02428528e+00  5.61076464e-01  6.60605073e-01\n",
      "   9.26659527e-02  9.33070252e-01  2.16434302e-01  1.64842936e-01\n",
      "   4.91212365e-01  7.38408366e-01  8.47267591e-02  4.08029971e+00\n",
      "  -2.32191791e+00 -4.44034310e-01]\n",
      " [ 2.23574114e-02  2.37229888e-01 -6.51619737e-02  4.10254181e-01\n",
      "  -2.22983464e-02  2.40274804e-03 -1.67082244e-01  4.50527717e-02\n",
      "   1.77968301e-01 -5.07797013e-02 -2.60545328e-01  1.78061466e+00\n",
      "   2.02584508e+00 -5.39235523e+00 -8.68045550e-01  5.87885454e-01\n",
      "  -1.30573540e+00 -1.12097053e+00  1.05132734e-01 -5.70057703e-01\n",
      "  -6.52818168e-01 -4.74298371e-02 -8.85647489e-01 -1.45340837e+00\n",
      "   2.57271530e+00 -2.70520242e+00]\n",
      " [ 5.37863223e-01  1.63713480e-01  9.90561593e-03 -1.13292590e-01\n",
      "  -2.08307253e-02 -1.49071203e-01  8.99247015e-02  5.15626971e-02\n",
      "  -6.74401040e-02  1.06117199e-01 -8.75401391e-02 -1.53581915e+00\n",
      "  -1.56070279e+00  3.36806995e+00  3.06969086e-01 -1.24849053e+00\n",
      "   1.21306945e+00  1.87900273e-01 -3.21567035e-01  4.05214767e-01\n",
      "   1.61605803e-01 -6.90978529e-01  8.00920730e-01 -2.62689134e+00\n",
      "  -2.50797387e-01  3.14923673e+00]]\n"
     ]
    }
   ],
   "source": [
    "mlogit_fit_3b = LogisticRegression(multi_class='multinomial',\n",
    "                                   penalty = None,\n",
    "                                   max_iter=10000).fit(X_3a, y_3a)\n",
    "\n",
    "print(mlogit_fit_3b.coef_)"
   ]
  },
  {
   "cell_type": "markdown",
   "id": "c430dd66-b606-40fd-abae-a24c19ef96f8",
   "metadata": {},
   "source": [
    "### Task 3c)\n",
    "\n",
    "We now skip the entire data splitting step that we discussed in Part 1. Instead, we say that model `mlogit_fit_3b` is our result of the entire modeling process and it is implemented in practice. We now get new test data for which we obtain output predictions. To prepare this, conduct the following steps:\n",
    "\n",
    "1. Load *drug_test.RDS* as object `drug_data_test`.\n",
    "2. Create an input variable matrix `X_3c_test` in the same way as in Task 3a, but using `drug_data_test` instead of `drug_data`."
   ]
  },
  {
   "cell_type": "code",
   "execution_count": 17,
   "id": "333d2f7d-b881-42f2-a9d5-090762b3f50a",
   "metadata": {},
   "outputs": [],
   "source": [
    "drug_data_test = prdr.read_r('drug_test.RDS')\n",
    "drug_data_test = drug_data_test[None]\n",
    "\n",
    "X_3c_test = pd.get_dummies(drug_data_test.loc[:, drug_data.columns != 'drugs.usage'])"
   ]
  },
  {
   "cell_type": "markdown",
   "id": "865f1abd-e837-4994-bd43-a3d696534fb3",
   "metadata": {},
   "source": [
    "### Task 3d)\n",
    "\n",
    "Get predictions from model `mlogit_fit_3b` for your test data using the `predict_proba()` and `predict()` methods. Save your predictions as `mlogit_prob_3c` and `mlogit_pred_3c`, respectively.\n"
   ]
  },
  {
   "cell_type": "code",
   "execution_count": 18,
   "id": "b95ef853-029d-4121-ae35-a576c33a219b",
   "metadata": {},
   "outputs": [],
   "source": [
    "mlogit_prob_3c = mlogit_fit_3b.predict_proba(X_3c_test)\n",
    "mlogit_pred_3c = mlogit_fit_3b.predict(X_3c_test)"
   ]
  },
  {
   "cell_type": "markdown",
   "id": "461fcdca-e2af-426c-b9fe-c7b266f9a02b",
   "metadata": {},
   "source": [
    "As time passes, you also observe outputs for your first batch of test data. This allows you to evaluate the accuracy of your prediction model during deployment. The variable *drugs.usage* in `drug.data.test` contains these test outputs. Extract them into a vector `ytest_3d`.\n",
    "\n",
    "Then, use the `confusion_matrix` function in sklearn to get a confusion matrix. Save it as `confumat_3d`.\n"
   ]
  },
  {
   "cell_type": "code",
   "execution_count": 19,
   "id": "be1acef3-5c16-49bd-aa10-0064c0ee2be7",
   "metadata": {},
   "outputs": [
    {
     "name": "stdout",
     "output_type": "stream",
     "text": [
      "[[131  50  17]\n",
      " [ 43 186  22]\n",
      " [ 34  48  34]]\n"
     ]
    }
   ],
   "source": [
    "ytest_3d    = drug_data_test['drugs.usage']\n",
    "confumat_3d = confusion_matrix(ytest_3d, mlogit_pred_3c)\n",
    "print(confumat_3d)"
   ]
  },
  {
   "cell_type": "code",
   "execution_count": 20,
   "id": "5b4820b2",
   "metadata": {},
   "outputs": [
    {
     "name": "stdout",
     "output_type": "stream",
     "text": [
      "Scriptet är nu färdigkört\n"
     ]
    }
   ],
   "source": [
    "# För att se sådan att det är avslutat/kör hela scriptet\n",
    "\n",
    "print(\"Scriptet är nu färdigkört\")"
   ]
  }
 ],
 "metadata": {
  "kernelspec": {
   "display_name": "Python 3 (ipykernel)",
   "language": "python",
   "name": "python3"
  },
  "language_info": {
   "codemirror_mode": {
    "name": "ipython",
    "version": 3
   },
   "file_extension": ".py",
   "mimetype": "text/x-python",
   "name": "python",
   "nbconvert_exporter": "python",
   "pygments_lexer": "ipython3",
   "version": "3.9.17"
  }
 },
 "nbformat": 4,
 "nbformat_minor": 5
}
