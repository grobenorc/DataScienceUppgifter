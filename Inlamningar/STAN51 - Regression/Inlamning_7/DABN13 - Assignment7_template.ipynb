{
 "cells": [
  {
   "cell_type": "markdown",
   "id": "d2481f2a-2a27-4e04-8b63-b3fdb983ad1c",
   "metadata": {},
   "source": [
    "# DABN13 - Assignment 7"
   ]
  },
  {
   "cell_type": "markdown",
   "id": "38a719f1-96f9-46d1-a6d0-86bc99cebeec",
   "metadata": {},
   "source": [
    "## Part 1: Canned procedures for p-value adjustment\n",
    "In this part we are going to explore which variables are relevant for first run U.S. box office ($) sales, for a set of 62 movies.\n",
    "We have 12 explanatory variables:\n",
    "\n",
    "* MPRating = MPAA Rating code, 1=G, 2=PG, 3=PG13, 4=R,\n",
    "* Budget = Production budget ($Mil),\n",
    "* Starpowr = Index of star poser,\n",
    "* Sequel = 1 if movie is a sequel, 0 if not,\n",
    "* Action = 1 if action film, 0 if not,\n",
    "* Comedy = 1 if comedy film, 0 if not,\n",
    "* Animated = 1 if animated film, 0 if not,\n",
    "* Horror = 1 if horror film, 0 if not,\n",
    "* Addict = Trailer views at traileraddict.com,\n",
    "* Cmngsoon = Message board comments at comingsoon.net,\n",
    "* Fandango = Attention at fandango.com (see Example 4.12),\n",
    "* Cntwait3 = Percentage of Fandango votes that can't wait to see\n",
    "\n"
   ]
  },
  {
   "cell_type": "code",
   "execution_count": 1,
   "id": "de5df485-c2eb-4bfe-8006-3dbff4009c8f",
   "metadata": {
    "tags": []
   },
   "outputs": [
    {
     "data": {
      "text/html": [
       "<div>\n",
       "<style scoped>\n",
       "    .dataframe tbody tr th:only-of-type {\n",
       "        vertical-align: middle;\n",
       "    }\n",
       "\n",
       "    .dataframe tbody tr th {\n",
       "        vertical-align: top;\n",
       "    }\n",
       "\n",
       "    .dataframe thead th {\n",
       "        text-align: right;\n",
       "    }\n",
       "</style>\n",
       "<table border=\"1\" class=\"dataframe\">\n",
       "  <thead>\n",
       "    <tr style=\"text-align: right;\">\n",
       "      <th></th>\n",
       "      <th>BOX</th>\n",
       "      <th>MPRATING</th>\n",
       "      <th>BUDGET</th>\n",
       "      <th>STARPOWR</th>\n",
       "      <th>SEQUEL</th>\n",
       "      <th>ACTION</th>\n",
       "      <th>COMEDY</th>\n",
       "      <th>ANIMATED</th>\n",
       "      <th>HORROR</th>\n",
       "      <th>ADDICT</th>\n",
       "      <th>CMNGSOON</th>\n",
       "      <th>FANDANGO</th>\n",
       "      <th>CNTWAIT3</th>\n",
       "    </tr>\n",
       "  </thead>\n",
       "  <tbody>\n",
       "    <tr>\n",
       "      <th>0</th>\n",
       "      <td>19167085</td>\n",
       "      <td>4</td>\n",
       "      <td>28.0</td>\n",
       "      <td>19.83</td>\n",
       "      <td>0</td>\n",
       "      <td>0</td>\n",
       "      <td>1</td>\n",
       "      <td>0</td>\n",
       "      <td>0</td>\n",
       "      <td>7860.50</td>\n",
       "      <td>10</td>\n",
       "      <td>144</td>\n",
       "      <td>0.49</td>\n",
       "    </tr>\n",
       "    <tr>\n",
       "      <th>1</th>\n",
       "      <td>63106589</td>\n",
       "      <td>2</td>\n",
       "      <td>150.0</td>\n",
       "      <td>32.69</td>\n",
       "      <td>1</td>\n",
       "      <td>0</td>\n",
       "      <td>0</td>\n",
       "      <td>1</td>\n",
       "      <td>0</td>\n",
       "      <td>5737.00</td>\n",
       "      <td>59</td>\n",
       "      <td>468</td>\n",
       "      <td>0.79</td>\n",
       "    </tr>\n",
       "    <tr>\n",
       "      <th>2</th>\n",
       "      <td>5401605</td>\n",
       "      <td>4</td>\n",
       "      <td>37.4</td>\n",
       "      <td>15.69</td>\n",
       "      <td>0</td>\n",
       "      <td>0</td>\n",
       "      <td>1</td>\n",
       "      <td>0</td>\n",
       "      <td>0</td>\n",
       "      <td>850.00</td>\n",
       "      <td>24</td>\n",
       "      <td>198</td>\n",
       "      <td>0.36</td>\n",
       "    </tr>\n",
       "    <tr>\n",
       "      <th>3</th>\n",
       "      <td>67528882</td>\n",
       "      <td>3</td>\n",
       "      <td>200.0</td>\n",
       "      <td>23.62</td>\n",
       "      <td>1</td>\n",
       "      <td>1</td>\n",
       "      <td>0</td>\n",
       "      <td>0</td>\n",
       "      <td>0</td>\n",
       "      <td>15326.00</td>\n",
       "      <td>93</td>\n",
       "      <td>1778</td>\n",
       "      <td>0.76</td>\n",
       "    </tr>\n",
       "    <tr>\n",
       "      <th>4</th>\n",
       "      <td>26223128</td>\n",
       "      <td>2</td>\n",
       "      <td>150.0</td>\n",
       "      <td>19.02</td>\n",
       "      <td>0</td>\n",
       "      <td>0</td>\n",
       "      <td>0</td>\n",
       "      <td>1</td>\n",
       "      <td>0</td>\n",
       "      <td>4574.25</td>\n",
       "      <td>30</td>\n",
       "      <td>1109</td>\n",
       "      <td>0.53</td>\n",
       "    </tr>\n",
       "  </tbody>\n",
       "</table>\n",
       "</div>"
      ],
      "text/plain": [
       "        BOX  MPRATING  BUDGET  STARPOWR  SEQUEL  ACTION  COMEDY  ANIMATED  \\\n",
       "0  19167085         4    28.0     19.83       0       0       1         0   \n",
       "1  63106589         2   150.0     32.69       1       0       0         1   \n",
       "2   5401605         4    37.4     15.69       0       0       1         0   \n",
       "3  67528882         3   200.0     23.62       1       1       0         0   \n",
       "4  26223128         2   150.0     19.02       0       0       0         1   \n",
       "\n",
       "   HORROR    ADDICT  CMNGSOON  FANDANGO  CNTWAIT3   \n",
       "0       0   7860.50        10       144       0.49  \n",
       "1       0   5737.00        59       468       0.79  \n",
       "2       0    850.00        24       198       0.36  \n",
       "3       0  15326.00        93      1778       0.76  \n",
       "4       0   4574.25        30      1109       0.53  "
      ]
     },
     "execution_count": 1,
     "metadata": {},
     "output_type": "execute_result"
    }
   ],
   "source": [
    "import pandas as pd\n",
    "import statsmodels.api as sm\n",
    "import numpy as np\n",
    "import os\n",
    "\n",
    "os.chdir(\"xxx\")\n",
    "\n",
    "movie_data = pd.read_csv(\"movie_buzz.txt\")\n",
    "\n",
    "movie_data.head()"
   ]
  },
  {
   "cell_type": "markdown",
   "id": "2143f0e5-378b-47e5-8bf4-d9938cdd7377",
   "metadata": {},
   "source": [
    "### Task 1a)\n",
    "\n",
    "We want to train a linear regression model with the *logarithm* of box office sales as output and all other variables in `movie_data` (plus a constant) as inputs. We are not going to hold out any validation data. \n",
    "\n",
    "First, extract the output and input variables into $n \\times 1$ and $n \\times p$ NumPy arrays `y_1a` and `X_1a`, respectively. Second, use the `OLS()` function in `statsmodels` to specify the regression model and to learn its coefficients. Save the specified model as `lm_fit_1a`. Third, save the p-values of tests for the individual significance of the regression coefficients as `pvalues_1a`. \n",
    "\n",
    "*Hint:* Information about where the p-values of a learned linear regression can be found is provided by the [documentation](https://www.statsmodels.org/dev/generated/statsmodels.regression.linear_model.RegressionResults.html#statsmodels.regression.linear_model.RegressionResults) of the `RegressionResults()` class in `statsmodels`."
   ]
  },
  {
   "cell_type": "code",
   "execution_count": 2,
   "id": "b1ad2582-fde1-4f7a-80f7-6e64713ecd2e",
   "metadata": {
    "tags": []
   },
   "outputs": [
    {
     "name": "stdout",
     "output_type": "stream",
     "text": [
      "                            OLS Regression Results                            \n",
      "==============================================================================\n",
      "Dep. Variable:                      y   R-squared:                       0.616\n",
      "Model:                            OLS   Adj. R-squared:                  0.522\n",
      "Method:                 Least Squares   F-statistic:                     6.554\n",
      "Date:                Mon, 30 Oct 2023   Prob (F-statistic):           8.52e-07\n",
      "Time:                        11:51:01   Log-Likelihood:                -54.149\n",
      "No. Observations:                  62   AIC:                             134.3\n",
      "Df Residuals:                      49   BIC:                             162.0\n",
      "Df Model:                          12                                         \n",
      "Covariance Type:            nonrobust                                         \n",
      "==============================================================================\n",
      "                 coef    std err          t      P>|t|      [0.025      0.975]\n",
      "------------------------------------------------------------------------------\n",
      "const         15.2537      0.598     25.512      0.000      14.052      16.455\n",
      "MPRATING      -0.2122      0.133     -1.597      0.117      -0.479       0.055\n",
      "BUDGET         0.0052      0.003      1.675      0.100      -0.001       0.011\n",
      "STARPOWR      -0.0047      0.013     -0.370      0.713      -0.030       0.021\n",
      "SEQUEL         0.3939      0.318      1.237      0.222      -0.246       1.034\n",
      "ACTION        -0.7491      0.281     -2.669      0.010      -1.313      -0.185\n",
      "COMEDY        -0.0016      0.247     -0.007      0.995      -0.497       0.494\n",
      "ANIMATED      -0.8212      0.387     -2.121      0.039      -1.599      -0.043\n",
      "HORROR         0.4377      0.357      1.228      0.225      -0.279       1.154\n",
      "ADDICT      2.216e-05   1.59e-05      1.390      0.171   -9.88e-06    5.42e-05\n",
      "CMNGSOON      -0.0001      0.001     -0.125      0.901      -0.002       0.002\n",
      "FANDANGO       0.0002      0.000      0.725      0.472      -0.000       0.001\n",
      "CNTWAIT3       3.2915      0.803      4.097      0.000       1.677       4.906\n",
      "==============================================================================\n",
      "Omnibus:                        0.796   Durbin-Watson:                   2.076\n",
      "Prob(Omnibus):                  0.672   Jarque-Bera (JB):                0.253\n",
      "Skew:                           0.011   Prob(JB):                        0.881\n",
      "Kurtosis:                       3.312   Cond. No.                     1.01e+05\n",
      "==============================================================================\n",
      "\n",
      "Notes:\n",
      "[1] Standard Errors assume that the covariance matrix of the errors is correctly specified.\n",
      "[2] The condition number is large, 1.01e+05. This might indicate that there are\n",
      "strong multicollinearity or other numerical problems.\n",
      "const        5.985357e-30\n",
      "MPRATING     1.167130e-01\n",
      "BUDGET       1.002235e-01\n",
      "STARPOWR     7.128634e-01\n",
      "SEQUEL       2.220741e-01\n",
      "ACTION       1.027928e-02\n",
      "COMEDY       9.947354e-01\n",
      "ANIMATED     3.900306e-02\n",
      "HORROR       2.254077e-01\n",
      "ADDICT       1.708378e-01\n",
      "CMNGSOON     9.013449e-01\n",
      "FANDANGO     4.716859e-01\n",
      "CNTWAIT3     1.564844e-04\n",
      "dtype: float64\n"
     ]
    }
   ],
   "source": [
    "# 1.\n",
    "y_1a = np.log(movie_data.iloc[:, 0].values.reshape(-1, 1)) # Logarithm of the original response variable\n",
    "X_1a = sm.add_constant(movie_data.iloc[:,1:]) # Explanatory variables as well as adding of a constant.\n",
    "\n",
    "# 2.\n",
    "lm_fit_1a = sm.OLS(y_1a,X_1a).fit()\n",
    "print(lm_fit_1a.summary())\n",
    "\n",
    "# 3.\n",
    "pvalues_1a = lm_fit_1a.pvalues\n",
    "print(pvalues_1a)\n"
   ]
  },
  {
   "cell_type": "code",
   "execution_count": 3,
   "id": "0d21fe31-370f-46e2-b705-29b4f2849a4d",
   "metadata": {
    "tags": []
   },
   "outputs": [
    {
     "name": "stdout",
     "output_type": "stream",
     "text": [
      "Index(['const', 'CNTWAIT3 '], dtype='object')\n"
     ]
    }
   ],
   "source": [
    "import statsmodels.stats.multitest as smm\n",
    "\n",
    "alpha_1b = 0.05\n",
    "\n",
    "# 1.\n",
    "p_holm_1b = smm.multipletests(\n",
    "    pvalues_1a, \n",
    "    alpha=alpha_1b, \n",
    "    method='holm', \n",
    "    maxiter=1, \n",
    "    is_sorted=False, \n",
    "    returnsorted=False\n",
    ")\n",
    "\n",
    "# 2.\n",
    "names_selected_1b = X_1a.columns[p_holm_1b[0]]\n",
    "print(names_selected_1b)"
   ]
  },
  {
   "cell_type": "markdown",
   "id": "9f939b8a-c63a-4aa7-9212-0c33e345abf6",
   "metadata": {},
   "source": [
    "## Part 2: The FWER in a simulation study\n",
    "\n",
    "In this part, we will use simulations to convince ourselves that standard p-values are problematic if we conduct a larger number of tests and that simple p-value adjustments can address our multiple testing problem.\n",
    "\n",
    "Below, I have written a short function `X_fun_precompute` that calculates particular functions of some provided matrix `XX`. These are returned as a dictionary. We will need this function output in the tasks below.\n"
   ]
  },
  {
   "cell_type": "code",
   "execution_count": 4,
   "id": "d66bfeb7-a01a-4ba1-aad9-01d91bd0dc1a",
   "metadata": {
    "tags": []
   },
   "outputs": [],
   "source": [
    "def X_fun_precompute(XX):\n",
    "    p1        = XX.shape[1]\n",
    "    XtX       = XX.T @ XX\n",
    "    XtX_inv   = np.linalg.solve(XtX, np.eye(p1))\n",
    "    XtX_inv_Xt = XtX_inv @ XX.T  \n",
    "    results = {'X': XX,\n",
    "               'XtX': XtX,\n",
    "               'XtX_inv': XtX_inv,\n",
    "               'XtX_inv_Xt': XtX_inv_Xt}\n",
    "    return(results)"
   ]
  },
  {
   "cell_type": "markdown",
   "id": "e42bdc94-8f9e-499f-9596-26b1cc56ba0c",
   "metadata": {},
   "source": [
    "### Task 2a)\n",
    "We start with the individual building blocks of our simulation study. First, we obtained learned coefficients, residuals and variance estimates from a linear regression model. Do the following:\n",
    "\n",
    "1. Call the function `X_fun_precompute` with `X_1a` as its only argument and save the function output as `X_funs_2a`.\n",
    "2. Manually compute the learned coefficients in a regression model with `y_1a` as output and `X_1a` as inputs. Save it as `beta_hat_2a`. Use the pre-computed functions of `X_1a` inside `X_funs_2a` instead of constructing them again.  \n",
    "3. Obtain the marginal variance \n",
    "$$ \\widehat{Var}[\\hat{\\beta} | X, y]= \\hat{\\sigma}^{2}(X^TX)^{-1} $$\n",
    "where $\\hat{\\sigma}^2$ is the estimated variance of the residuals. Save it as `VX_2a`. Again, use objects inside `X_funs_2a` to refer to `X_1a` and any function that involves `X_1a` alone. \n",
    "\n",
    "*Hint:* A good way to see that you have done things correctly is to compare your result with the summary of your regression results in Task 1a)."
   ]
  },
  {
   "cell_type": "code",
   "execution_count": 5,
   "id": "0759ccb6-fbd1-42d8-beff-8bbd349075e5",
   "metadata": {
    "tags": []
   },
   "outputs": [],
   "source": [
    "# 1.\n",
    "X_funs_2a = X_fun_precompute(X_1a)\n",
    "\n",
    "# 2.\n",
    "beta_hat_2a = X_funs_2a['XtX_inv_Xt']@y_1a\n",
    "\n",
    "# 3.\n",
    "# sigma_hat_2 = (residuals.T@residuals) / (y_1a.shape[0]-np.trace(beta_hat_2a))\n",
    "# np.var((X_1a@beta_hat_2a.values.reshape(-1).T - y_1a.reshape(-1)))\n",
    "\n",
    "    # 1. Compute residuals\n",
    "residuals = y_1a.reshape((y_1a.shape[0],)) - np.dot(X_1a, beta_hat_2a.values.reshape(13,))\n",
    "    # 2. Compute sigma_squared for residuals\n",
    "sigma_squared = (1 / (X_funs_2a['X'].shape[0] - X_funs_2a['X'].shape[1]-1)) * np.sum(residuals**2) # sum((observed value — predicted value)²) / (n — p — 1)\n",
    "\n",
    "    # 3. Compute marginal varince error of each coefficient\n",
    "VX_2a = np.diagonal(sigma_squared * X_funs_2a['XtX_inv'])\n"
   ]
  },
  {
   "cell_type": "markdown",
   "id": "226ba36b-2764-4b6e-a946-00eb9df8ed81",
   "metadata": {},
   "source": [
    "### Task 2b)\n",
    "\n",
    "As a next step, do the following:\n",
    "\n",
    "1. Obtain $t-$ statistics for $\\beta_i$ under $H_0:\\beta_i=0$, namely\n",
    "$$\n",
    "t_i = \\left|\\frac{\\hat{\\beta}_i}{\\widehat{sd[\\hat{\\beta}_i | X, y]}} \\right|,\n",
    "$$\n",
    "and save them as `t_2b`. Use existing objects from Task 2a to arrive there.\n",
    "2. Compute the corresponding $p-$values of two-sided tests and save them as `pvalues_2b`. Here, keep in mind that $\\frac{\\hat{\\beta}_i}{\\widehat{sd[\\hat{\\beta}_i | X, y]}} $ follows a Student-t distribution with $n-p$ degrees of freedom. The cumulative density function of this distribution is given by the `t.cdf()` function in the stats-module of `scipy`. See its documentation [here](https://docs.scipy.org/doc/scipy/reference/generated/scipy.stats.t.html)\n",
    "\n",
    "*Hint*: Use the result\n",
    "$$\n",
    "P_{0}(|T| \\geq t) = P_{0}(T \\leq -t)  + P_{0}(T \\geq t).\n",
    "$$\n"
   ]
  },
  {
   "cell_type": "code",
   "execution_count": 6,
   "id": "1f0ebd29-01b1-4101-bdda-8476f78db551",
   "metadata": {
    "tags": []
   },
   "outputs": [
    {
     "name": "stdout",
     "output_type": "stream",
     "text": [
      "[0.00000000e+00 1.20416950e-01 1.03659607e-01 7.15676003e-01\n",
      " 2.26780021e-01 1.10330452e-02 9.94789404e-01 4.09662062e-02\n",
      " 2.30130413e-01 1.75183916e-01 9.02351524e-01 4.76220085e-01\n",
      " 1.79042371e-04]\n"
     ]
    }
   ],
   "source": [
    "from scipy.stats import t\n",
    "\n",
    "# 1.\n",
    "t_2b       = np.abs( (np.array(beta_hat_2a).reshape(-1)) / np.sqrt(VX_2a) )\n",
    "\n",
    "# 2.\n",
    "pvalues_2b = 2*(1-t.cdf(t_2b, X_1a.shape[0]-X_1a.shape[1])) # 2 sided hence multiplied by 2.\n",
    "\n",
    "print(pvalues_2b)"
   ]
  },
  {
   "cell_type": "markdown",
   "id": "d31e77c0-96da-4351-8bed-135a149f11bb",
   "metadata": {},
   "source": [
    "### Task 2c)\n",
    "Now write a function `calculate_p_2c`.  Its arguments are a $n \\times 1$ Numpy array of output values `y0` as well as a dictionary `X0_funs`  with the same structure as `X_funs_2a`. `calculate_p_2c` should conduct the same steps as in Tasks 2a-b and should return the p-values of a regression of `y0` on the input matrix from which `X0_funs` has been generated."
   ]
  },
  {
   "cell_type": "code",
   "execution_count": 7,
   "id": "e19df31f-e2ee-45ce-9450-c3b6436f6a58",
   "metadata": {
    "tags": []
   },
   "outputs": [],
   "source": [
    "def calculate_p_2c(y0, X0_funs):\n",
    "    # Step 1: Compute residuals\n",
    "    residuals = y0 - np.dot(X0_funs['X'], X0_funs['XtX_inv_Xt'] @ y0)\n",
    "    # Step 2: Compute sigma_squared for residuals\n",
    "    N = X0_funs['X'].shape[0]\n",
    "    p = X0_funs['X'].shape[1]\n",
    "    sigma_squared = (1 / (N - p - 1)) * np.sum(residuals**2)\n",
    "\n",
    "    # Step 3: Compute marginal variance error of each coefficient\n",
    "    VX_2c = np.diagonal(sigma_squared * X0_funs['XtX_inv'])\n",
    "\n",
    "    # Step 4: Calculate t-statistics\n",
    "    beta_hat_2c = X0_funs['XtX_inv_Xt'] @ y0\n",
    "    t_2c = np.abs( (np.array(beta_hat_2c).reshape(-1)) / np.sqrt(VX_2c) )\n",
    "\n",
    "    # Step 5: Calculate p-values\n",
    "    df = N - p # Degrees of freedom is needed to calculate the t-statistic.\n",
    "    pvalues_2c = 2 * (1 - t.cdf(t_2c, df))\n",
    "\n",
    "    return pvalues_2c\n"
   ]
  },
  {
   "cell_type": "code",
   "execution_count": 8,
   "id": "1bf47e31",
   "metadata": {},
   "outputs": [
    {
     "name": "stdout",
     "output_type": "stream",
     "text": [
      "[0.00000000e+00 1.20416950e-01 1.03659607e-01 7.15676003e-01\n",
      " 2.26780021e-01 1.10330452e-02 9.94789404e-01 4.09662062e-02\n",
      " 2.30130413e-01 1.75183916e-01 9.02351524e-01 4.76220085e-01\n",
      " 1.79042371e-04]\n"
     ]
    }
   ],
   "source": [
    "# Test to see if it works out, compare with the lm_fit\n",
    "print(calculate_p_2c(y_1a, X_funs_2a))"
   ]
  },
  {
   "cell_type": "markdown",
   "id": "7e4f6f59-852d-4605-bfe5-a2b9a7545cc6",
   "metadata": {},
   "source": [
    "### Task 2d)\n",
    "Now we can set op our simulation study. Write a loop that repeats the following steps 1000 times:\n",
    "\n",
    "1. Simulate an output `y_fake` unrelated to the existing inputs `X_1a`. `y_fake` should be drawn from a normal distribution with mean and variance coming from the sample mean and variance of the observed $y$ in your dataset.\n",
    "\n",
    "2. Use your function `calculate_p_2c` to compute $p-$values in a linear regression of `y_fake` on the observed inputs `X_1a`. Use the existing dictionary `X_funs_2a` as second function argument.\n",
    "3. Adjust the p-values returned by `calculate_p_2c` in two different ways: i) Bonferroni adjustment, ii) Holm's method.\n",
    "4. Store the number of variables in the learned model (excluding the intercept) whose coefficient is found to be statistically significant at a significance level $\\alpha=0.05$. Do this for i) p-value without adjustment, ii) Bonferroni-adjusted p-values, iii) Holm-adjusted p-values.\n",
    "\n",
    "For step 3., create empty arrays, `n_selected_naive`, `n_selected_Holm` and `n_selected_Bonferroni` before you write the for loop. Inside the loop, store the number of statistically significant inputs in your *j*-th iteration in element *j* of these objects.\n",
    "\n",
    "When the loop has finished, calculate the FWER using results from the 100 iterations of your loop. Save the FWER for your three sets of p-value based selection of significant predictors as `FWER_Naive`, `FWER_Holm` and `FWER_BF`.\n",
    "\n",
    "Does either of the three methods successfully control the FWER? Save your answer in the string variable `FWER_control_2d`."
   ]
  },
  {
   "cell_type": "code",
   "execution_count": 9,
   "id": "9ba7dbcb-f8dc-4c91-b6ba-a6577915a1e0",
   "metadata": {
    "tags": []
   },
   "outputs": [
    {
     "name": "stdout",
     "output_type": "stream",
     "text": [
      "0.545\n",
      "0.044\n",
      "0.041\n",
      "Based on running 1000 simulations we can see that both Bonferronni and Holm controls the family-wise error rate. Each falling beneath the choosen alpha-value of 0.05. (This can vary a little bit depending of which seed is run).\n"
     ]
    }
   ],
   "source": [
    "\n",
    "n_selected_naive, n_selected_Holm, n_selected_Bonferroni = [], [], [],\n",
    "\n",
    "def new_func(y_fake):\n",
    "    return calculate_p_2c(y_fake, X_funs_2a)\n",
    "\n",
    "for i in range(1000): # I guess 1000, not very straightforward what he means\n",
    "    \n",
    "    y_fake = np.random.normal(loc=np.mean(y_1a), scale=np.std(y_1a), size = (y_1a.shape[0],1))\n",
    "    inputs = sm.add_constant(X_1a)\n",
    "\n",
    "    model = sm.OLS(y_fake,inputs).fit()\n",
    "\n",
    "    calculated_p_2c = new_func(y_fake) \n",
    "\n",
    "    holms_p = smm.multipletests(\n",
    "        calculated_p_2c, \n",
    "        alpha=0.05, \n",
    "        method='holm', \n",
    "        maxiter=1, \n",
    "        is_sorted=False, \n",
    "        returnsorted=False\n",
    "    )\n",
    "    bonferronis_p = smm.multipletests(\n",
    "        calculated_p_2c, \n",
    "        alpha=0.05, \n",
    "        method='bonferroni', \n",
    "        maxiter=1, \n",
    "        is_sorted=False, \n",
    "        returnsorted=False\n",
    "    )\n",
    "\n",
    "    n_selected_naive.append(sum(calculated_p_2c[1:] < 0.05)) # Removes the intercept with [1:] since it not a varibale/coefficient we want to test\n",
    "    n_selected_Holm.append(sum(holms_p[0][1:])), # Removes the intecept also for the Holms method\n",
    "    n_selected_Bonferroni.append(sum(bonferronis_p[0][1:])) # And the same as for the Bonferroni method\n",
    "\n",
    "\n",
    "print(np.sum(n_selected_naive) / len(n_selected_naive))\n",
    "print(np.sum(n_selected_Holm) / len(n_selected_Holm))\n",
    "print(np.sum(n_selected_Bonferroni) / len(n_selected_Bonferroni))\n",
    "\n",
    "FWER_control_2d = \"Based on running 1000 simulations we can see that both Bonferronni and Holm controls the family-wise error rate. Each falling beneath the choosen alpha-value of 0.05. (This can vary a little bit depending of which seed is run).\"\n",
    "print(FWER_control_2d)"
   ]
  },
  {
   "cell_type": "markdown",
   "id": "f150da53-2d59-4f4a-8f64-4e5a14cf18a5",
   "metadata": {},
   "source": [
    "## Part 3: Test power with p-value adjustment\n",
    "\n",
    "Now that we have created an efficient algorithm for computing the p-values, we are going to explore what happens when one adds several signals to the simulated data.\n",
    "However, we first rescale all input variables in our data so that they have a variance of one."
   ]
  },
  {
   "cell_type": "code",
   "execution_count": 10,
   "id": "add7dd46-7627-483e-afda-e9de1aa59ac5",
   "metadata": {
    "tags": []
   },
   "outputs": [],
   "source": [
    "from sklearn.preprocessing import StandardScaler\n",
    "\n",
    "scaler_3a = StandardScaler(with_mean=False) # With_mean makes sure we have (x-0)/s instead of (x-x_bar)/s.\n",
    "X_3a      = scaler_3a.fit_transform(X_1a)"
   ]
  },
  {
   "cell_type": "markdown",
   "id": "b6a80fb7-3434-4851-993b-cd7c62f21fc6",
   "metadata": {},
   "source": [
    "### Task 3a)\n",
    "Next, we simulate artificial outcomes. However, in contrast to task 2d we are *not* creating new $y$ that are completely unrelated to the observed predictors in our box office sales data. More specifically, we simulate $y$ from the linear model\n",
    "$$\n",
    "\\mathbf{y}= \\mathbf{X}\\boldsymbol{\\beta} + \\boldsymbol{\\varepsilon}\n",
    "$$\n",
    "where $X$ contains the scaled predictors of Task 3a. For the vector of slope coefficients $\\beta$, we let $\\beta_{2:5}=log(2:5)$ whereas all other elements of this vector are 0. The model errors $\\epsilon$ are drawn independently from a standard normal distribution. Construct a new object `y_sim_3a` that contains simulated outcomes from the model described here."
   ]
  },
  {
   "cell_type": "code",
   "execution_count": 11,
   "id": "306cbc21-441d-454c-8949-efcfc97305e5",
   "metadata": {
    "tags": []
   },
   "outputs": [
    {
     "name": "stdout",
     "output_type": "stream",
     "text": [
      "Betas: \n",
      " [0.         0.         0.69314718 1.09861229 1.38629436 1.60943791\n",
      " 0.         0.         0.         0.         0.         0.\n",
      " 0.        ]\n",
      "\n",
      "Simulated y-values: \n",
      " [ 4.61790824  9.67519361  3.24001271 12.76472179  6.58202733  1.86093877\n",
      "  3.36138313  6.52948935  9.32372732  8.92055405  3.01669312  4.65307631\n",
      "  7.75272978  2.8170205   3.80168863  5.37931866  4.63446383  3.892372\n",
      "  6.66024428  6.74409685  5.66361815  7.75596486  3.76663915  1.84659498\n",
      "  3.53073318  2.10217414  1.51241397  5.11986586  0.84249918  2.12712233\n",
      " -0.0418974   1.2537063   1.80840419 10.46355543 10.09664152  3.06983504\n",
      "  6.23380207  3.45789456  3.52564462  6.48358436  4.07135039  6.10443446\n",
      "  9.67129175  4.27638949  3.06859828  3.35779743  0.79672316  8.16858148\n",
      "  1.7081327   7.6156648   9.46462287  0.07545673  1.28123057  6.8974447\n",
      "  3.21689579  2.88156739  3.48737213  8.53094699  6.72364945  2.75782814\n",
      " 12.31151046  2.06538974]\n"
     ]
    }
   ],
   "source": [
    "# signal_index_3a = [1, 2, 3, 4] # ? This is not B_2, B_3, B_4, B_5?\n",
    "signal_index_3a = [np.arange(2, 6)]\n",
    "betas = np.zeros(X_3a.shape[1])  # Initialize with zeros\n",
    "betas[signal_index_3a] = np.log(np.arange(2, 6))     # Set elements 2 to 5 to log(2:5)\n",
    "\n",
    "#np.random.seed(0)  # For reproducibility\n",
    "epsilon = np.random.normal(0, 1, size=X_3a.shape[0])\n",
    "\n",
    "# Calculate the simulated outcomes y_sim_3a\n",
    "y_sim_3a = X_3a @ betas + epsilon\n",
    "\n",
    "print(\"Betas: \\n\", betas)\n",
    "print(\"\\nSimulated y-values: \\n\", y_sim_3a)"
   ]
  },
  {
   "cell_type": "markdown",
   "id": "2ec76254-150b-48ee-a7d0-c5ae1b268c55",
   "metadata": {},
   "source": [
    "### Task 3b)\n",
    "In this task were are getting adjusted p-values again:\n",
    "\n",
    "1. Obtain a list object `x_funs_3b` containing functions of `X_3a` using `X_fun_precompute()`.\n",
    "2. Use your`calculate_p_2c()` function to get p-values for significance tests in a regression with `y_sim_3a` as output and `X_3a` as inputs. Save your result as `pvalues_3b`.\n",
    "2. Get adjusted p-values from Bonferroni and Benjamini & Hochberg corrections by using `p.adjust()`. Save these p-values as `p_BF_3b` and `p_hochberg_3b`."
   ]
  },
  {
   "cell_type": "code",
   "execution_count": 12,
   "id": "b484942e-9828-4d4b-8328-279087245812",
   "metadata": {
    "tags": []
   },
   "outputs": [
    {
     "name": "stdout",
     "output_type": "stream",
     "text": [
      "No adjustment:\n",
      " [2.43680631e-11 6.72055149e-08 2.88597932e-06 1.16137731e-02\n",
      " 9.48798619e-02 1.93104679e-01 4.79741145e-01 5.14916508e-01\n",
      " 6.15403243e-01 6.77813400e-01 7.62318535e-01 8.30721165e-01\n",
      " 9.48879621e-01]\n",
      "\n",
      "Bonferroni method:\n",
      " [3.16784821e-10 8.73671694e-07 3.75177312e-05 1.50979050e-01\n",
      " 1.00000000e+00 1.00000000e+00 1.00000000e+00 1.00000000e+00\n",
      " 1.00000000e+00 1.00000000e+00 1.00000000e+00 1.00000000e+00\n",
      " 1.00000000e+00]\n",
      "\n",
      "Benjamini-Hochberg method:\n",
      " [3.16784821e-10 4.36835847e-07 1.25059104e-05 3.77447626e-02\n",
      " 2.46687641e-01 4.18393472e-01 8.36739325e-01 8.36739325e-01\n",
      " 8.81157420e-01 8.81157420e-01 8.99947929e-01 8.99947929e-01\n",
      " 9.48879621e-01]\n"
     ]
    }
   ],
   "source": [
    "# 1.\n",
    "X_funs_3b  = X_fun_precompute(X_3a)\n",
    "\n",
    "# 2.\n",
    "pvalues_3b = calculate_p_2c(y_sim_3a, X_funs_3b)\n",
    "# 3.\n",
    "p_BF_3b = smm.multipletests( # I guess this should be smm.multipletest since p.adjust is used in R.\n",
    "        pvalues_3b, \n",
    "        alpha=0.05, \n",
    "        method='bonferroni', \n",
    "        maxiter=1, \n",
    "        is_sorted=False, \n",
    "        returnsorted=True\n",
    "    )\n",
    "\n",
    "p_hochberg_3b = smm.multipletests(\n",
    "        pvalues_3b, \n",
    "        alpha=0.05, \n",
    "        method='fdr_bh', \n",
    "        # maxiter=1, \n",
    "        # is_sorted=False, \n",
    "        returnsorted=True\n",
    "    )\n",
    "\n",
    "print(\"No adjustment:\\n\", np.sort(pvalues_3b))\n",
    "print(\"\\nBonferroni method:\\n\", p_BF_3b[1])\n",
    "print(\"\\nBenjamini-Hochberg method:\\n\",p_hochberg_3b[1])"
   ]
  },
  {
   "cell_type": "markdown",
   "id": "683f703f-0c4a-4bbf-bf78-1a672c549688",
   "metadata": {},
   "source": [
    "### Task 3c)\n",
    "Next, we calculate the false discovery proportion of Bonferroni and Benjamini-Hochberg methods.\n",
    "\n",
    "1. Create  binary vectors `selected_BF_3c` and `selected_hochberg_3c` whose elements indicate which input variables are significant at a (familywise) significance level of $\\alpha=0.15$. \n",
    "2. Create  binary vectors `selected_true_BF_3c` and `selected_true_hochberg_3c` whose elements indicate if the coefficient on a particular input variable is significant *and* has a nonzero true value in the setup that you used to generate `y_sim_3a`. \n",
    "3. Use the objects from steps 1 and 2 to calculate the $fdp$ for Bonferroni and Benjamini & Hochberg corrections. Save them as `fdp_BF_3c` and `fdp_hochberg_3c` "
   ]
  },
  {
   "cell_type": "code",
   "execution_count": 13,
   "id": "5d6ae446-b379-40dd-b283-0db008207946",
   "metadata": {},
   "outputs": [
    {
     "name": "stdout",
     "output_type": "stream",
     "text": [
      "FDP Bonferonni:  0.6666666666666666\n",
      "FDP Benjamini-Hochberg:  0.5\n"
     ]
    }
   ],
   "source": [
    "alpha_3c = 0.15\n",
    "\n",
    "# 1.\n",
    "## First we count how many of the variables that was totally selected\n",
    "selected_BF_3c = tuple(x < alpha_3c for x in p_BF_3b[1])\n",
    "selected_hochberg_3c = tuple(x < alpha_3c for x in p_hochberg_3b[1])\n",
    "\n",
    "# 2.\n",
    "## We now check how many of those seleceted that are actually True (by our setup of being a non-zero coefficient (4 of those) )\n",
    "selected_true_BF_3c       = tuple((x == True) and (y > 0) for x,y in zip(selected_BF_3c, betas))\n",
    "selected_true_hochberg_3c = tuple((x == True) and (y > 0) for x,y in zip(selected_hochberg_3c, betas))\n",
    "\n",
    "# 3.\n",
    "## We now check how many how many that were Fasle Positive.\n",
    "selected_false_BF_3c       = tuple((x == True) and (y == 0) for x,y in zip(selected_BF_3c, betas))\n",
    "selected_false_hochberg_3c = tuple((x == True) and (y == 0) for x,y in zip(selected_hochberg_3c, betas))\n",
    "\n",
    "\n",
    "\n",
    "\n",
    "\n",
    "# 3.\n",
    "fdp_BF_3c       = sum(selected_false_BF_3c)/sum(selected_BF_3c)\n",
    "fdp_hochberg_3c = sum(selected_false_hochberg_3c)/sum(selected_hochberg_3c)\n",
    "\n",
    "print('FDP Bonferonni: ', fdp_BF_3c)\n",
    "print('FDP Benjamini-Hochberg: ', fdp_hochberg_3c)"
   ]
  },
  {
   "cell_type": "markdown",
   "id": "30866f29-da92-4abe-b94a-45ef3f2ab6a8",
   "metadata": {},
   "source": [
    "### Task 3d)\n",
    "\n",
    "We are now going to conduct simulations in order to investigate the $FWER$, $FDR$ and the power of each signal variable in the model setup of Task 3b. We do this in a double loop. \n",
    "\n",
    "The inner loop generates 1000 vectors of simulated outputs and records (using a vector of indicator variables) which of the input variables in `X_3a` are significant at a 15% significance level. The underlying p-values are to be corrected using the Bonferroni and Benjamini-Hochberg corrections. \n",
    "\n",
    "The outer loop runs through 20 cases with signal variables of increasing signal strength. Signal strength is controlled by multiplying the coefficient vector `beta_sim_3a` of your model  with a magnitude factor `mag` whose 20 possible values are saved in a vector `magnitudes`. After the inner loop has been run, the outer loop uses information of variable selection in every simulated dataset to calculate FDR and FWER, excluding the pvalue of a test for statistical significance of the intercept. The outer loop also stores the power of significance test for coefficients on each of the four signal variables in the model (i.e. those with nonzero beta coefficient).\n",
    "\n",
    "*Note*: The code chunk below prepares a number of empty vectors and matrices that are to be filled in the inner and outer loops. The matrices starting with `selected.` might be a bit confusing. Keep in mind that they have dimension $\\mathrm{sim} \\times p$. So each iteration of the inner loop is supposed to fill one of their rows."
   ]
  },
  {
   "cell_type": "code",
   "execution_count": 14,
   "id": "27d8e014-d96f-443a-baf7-4ededcf05658",
   "metadata": {},
   "outputs": [
    {
     "name": "stderr",
     "output_type": "stream",
     "text": [
      "C:\\Users\\claes\\AppData\\Local\\Temp\\ipykernel_6780\\4059283001.py:39: RuntimeWarning: invalid value encountered in divide\n",
      "  FDR_BF[i] = np.mean(np.sum(selected_BF_3d[:, signal_index_3d], axis=1) / np.sum(selected_BF_3d[:, signal_index_3d], axis=1))\n",
      "C:\\Users\\claes\\AppData\\Local\\Temp\\ipykernel_6780\\4059283001.py:40: RuntimeWarning: invalid value encountered in divide\n",
      "  FDR_Hochberg[i] = np.mean(np.sum(selected_Hochberg_3d[:, signal_index_3d], axis=1) / np.sum(selected_Hochberg_3d[:, signal_index_3d], axis=1))\n"
     ]
    }
   ],
   "source": [
    "# Don't change anything here:\n",
    "np.random.seed(4456)\n",
    "\n",
    "sim = 1000\n",
    "p = X_3a.shape[1]\n",
    "magnitudes = np.linspace(0, 1, 20)\n",
    "\n",
    "signal_index_3d = [2,3,4,5]\n",
    "\n",
    "Power_Hochberg_3d    = np.zeros((len(magnitudes), len(signal_index_3d)))\n",
    "Power_BF_3d          = np.zeros((len(magnitudes), len(signal_index_3d)))\n",
    "FWER_Hochberg_3d     = np.zeros(len(magnitudes))\n",
    "FWER_BF_3d           = np.zeros(len(magnitudes))\n",
    "FDR_BF               = np.zeros(len(magnitudes))\n",
    "FDR_Hochberg         = np.zeros(len(magnitudes))\n",
    "selected_BF_3d       = np.zeros((sim, p))\n",
    "selected_Hochberg_3d = np.zeros((sim, p))\n",
    "\n",
    "# Start changing stuff below\n",
    "# Start changing stuff below\n",
    "for i, mag in enumerate(magnitudes):\n",
    "    selected_BF_3d = np.zeros((sim, p))  # Initialize inside the outer loop\n",
    "    selected_Hochberg_3d = np.zeros((sim, p))  # Initialize inside the outer loop\n",
    "\n",
    "    for ii in range(sim):\n",
    "        beta_loop_3d = betas * mag  # Adjust to use true coefficients\n",
    "        y_loop_3d = X_3a @ beta_loop_3d + np.random.normal(0, 1, X_3a.shape[0])\n",
    "        pvals_loop_3d = calculate_p_2c(y_loop_3d, X_funs_3b)\n",
    "        p_BF_loop_3d = smm.multipletests(pvals_loop_3d, alpha=0.15, method='bonferroni')\n",
    "        p_hoch_loop_3d = smm.multipletests(pvals_loop_3d, alpha=0.15, method='fdr_bh')\n",
    "\n",
    "        selected_BF_3d[ii, :] = p_BF_loop_3d[1] <= 0.15  # Corrected p-values are in the second element\n",
    "        selected_Hochberg_3d[ii, :] = p_hoch_loop_3d[1] <= 0.15  # Corrected p-values are in the second element\n",
    "\n",
    "    Power_BF_3d[i, :] = np.mean(selected_BF_3d[:, signal_index_3d], axis=0)\n",
    "    Power_Hochberg_3d[i, :] = np.mean(selected_Hochberg_3d[:, signal_index_3d], axis=0)\n",
    "    FWER_BF_3d[i] = np.mean(np.any(selected_BF_3d[:, ~np.isin(range(p), signal_index_3d)], axis=1))\n",
    "    FWER_Hochberg_3d[i] = np.mean(np.any(selected_Hochberg_3d[:, ~np.isin(range(p), signal_index_3d)], axis=1))\n",
    "    FDR_BF[i] = np.mean(np.sum(selected_BF_3d[:, signal_index_3d], axis=1) / np.sum(selected_BF_3d[:, signal_index_3d], axis=1))\n",
    "    FDR_Hochberg[i] = np.mean(np.sum(selected_Hochberg_3d[:, signal_index_3d], axis=1) / np.sum(selected_Hochberg_3d[:, signal_index_3d], axis=1))"
   ]
  },
  {
   "cell_type": "code",
   "execution_count": 15,
   "id": "7c658d0a",
   "metadata": {},
   "outputs": [
    {
     "name": "stdout",
     "output_type": "stream",
     "text": [
      "[[0.015 0.006 0.01  0.009]\n",
      " [0.009 0.015 0.016 0.02 ]\n",
      " [0.018 0.025 0.037 0.044]\n",
      " [0.028 0.06  0.11  0.104]\n",
      " [0.031 0.095 0.181 0.218]\n",
      " [0.044 0.164 0.307 0.421]\n",
      " [0.076 0.271 0.462 0.569]\n",
      " [0.09  0.404 0.636 0.726]\n",
      " [0.13  0.529 0.759 0.859]\n",
      " [0.162 0.645 0.884 0.937]\n",
      " [0.239 0.738 0.938 0.97 ]\n",
      " [0.28  0.847 0.985 0.996]\n",
      " [0.324 0.907 0.987 0.998]\n",
      " [0.39  0.95  0.995 0.997]\n",
      " [0.457 0.982 1.    1.   ]\n",
      " [0.543 0.987 1.    1.   ]\n",
      " [0.618 0.997 1.    1.   ]\n",
      " [0.674 1.    1.    1.   ]\n",
      " [0.73  0.999 1.    1.   ]\n",
      " [0.746 1.    1.    1.   ]]\n",
      "[[0.022 0.017 0.018 0.017]\n",
      " [0.017 0.02  0.029 0.033]\n",
      " [0.024 0.043 0.052 0.06 ]\n",
      " [0.04  0.082 0.129 0.134]\n",
      " [0.066 0.153 0.247 0.292]\n",
      " [0.102 0.268 0.402 0.505]\n",
      " [0.142 0.419 0.578 0.68 ]\n",
      " [0.226 0.579 0.788 0.848]\n",
      " [0.26  0.708 0.893 0.935]\n",
      " [0.369 0.813 0.956 0.982]\n",
      " [0.444 0.868 0.984 0.994]\n",
      " [0.493 0.959 0.999 0.999]\n",
      " [0.554 0.968 0.999 1.   ]\n",
      " [0.651 0.987 0.999 1.   ]\n",
      " [0.677 0.996 1.    1.   ]\n",
      " [0.76  0.997 1.    1.   ]\n",
      " [0.846 1.    1.    1.   ]\n",
      " [0.841 1.    1.    1.   ]\n",
      " [0.903 1.    1.    1.   ]\n",
      " [0.899 1.    1.    1.   ]]\n"
     ]
    }
   ],
   "source": [
    "print(Power_BF_3d)\n",
    "print(Power_Hochberg_3d)"
   ]
  },
  {
   "cell_type": "markdown",
   "id": "3a5bce1e-7b04-4c14-9696-a2302dd2d6a6",
   "metadata": {},
   "source": [
    "### Task 3e)\n",
    "For the variable with the strongest signal (i.e. the largest coefficient in `beta_sim_3a`) create a line plot that plots the power of a significance test on its coefficient against the signal strength `mag`. Since you have power for both Bonferroni amd Benjamini-Hochberg adjustments, you need to include the corresponding two power curves in the same plot.\n",
    "\n",
    "Then, create another plot in which you repeat the same task for the weakest signal (i.e. the variable with smallest nonzero coefficient in `beta_sim_3a`).\n",
    "\n",
    "Why is the difference in power between Bonferroni and Benjamini-Hochberg adjusted p-values larger on the weakest signal? Write your answer into the string variable `why_difference_3e`."
   ]
  },
  {
   "cell_type": "code",
   "execution_count": 16,
   "id": "747fdd9d-1338-421d-87e0-5ff4c12382f5",
   "metadata": {},
   "outputs": [
    {
     "data": {
      "image/png": "[encoded data removed]",
      "text/plain": [
       "<Figure size 1000x500 with 1 Axes>"
      ]
     },
     "metadata": {},
     "output_type": "display_data"
    },
    {
     "data": {
      "image/png": "[encoded data removed]",
      "text/plain": [
       "<Figure size 1000x500 with 1 Axes>"
      ]
     },
     "metadata": {},
     "output_type": "display_data"
    },
    {
     "name": "stdout",
     "output_type": "stream",
     "text": [
      "The difference originates from the fundamental differences of the p-values adjustment. Bonferroni method is a lot more conservative (of rejectinh the H0) while the Benjamini-Hochberg in contrary is more lenient and prone 'to find discoveries' (reject H0). As we can see in the two plots below the differences of the two methods are larger when having a weaker signal (variable 0) and smaller when having a strong signal. One might think of it as if the signal strength is 'outshining' the different p-values adjustment (The signal strength is to large for the adjustments to be very different).\n",
      "\n",
      "The plot now confirms how the different methods in theory should work. Even though we've only run a simulation, not on real data. The Benjamini-Hochberg should theoretically, and have empirically, a stronger Power due to it's p-value adjustment being more prone to reject H0 and find discoveries.\n"
     ]
    }
   ],
   "source": [
    "import matplotlib.pyplot as plt\n",
    "\n",
    "# Task 3e - Plot Power for the Strongest Signal\n",
    "strongest_signal_index = np.argmax(betas[np.nonzero(betas)]) if np.any(betas) else 0\n",
    "\n",
    "plt.figure(figsize=(10, 5))\n",
    "plt.plot(magnitudes, Power_BF_3d[:, strongest_signal_index], label=f'Power Bonferroni', marker='o')\n",
    "plt.plot(magnitudes, Power_Hochberg_3d[:, strongest_signal_index], label=f'Power Hochberg', marker='o')\n",
    "plt.xlabel('Signal Strength (mag)')\n",
    "plt.ylabel('Power')\n",
    "plt.title(f'Power vs. Strongest Signal Strength, Variable {strongest_signal_index}')\n",
    "plt.legend()\n",
    "plt.show()\n",
    "\n",
    "# Task 3e - Plot Power for the Weakest Signal\n",
    "weakest_signal_index = np.argmin(betas[np.nonzero(betas)])  # Index of the weakest signal\n",
    "\n",
    "plt.figure(figsize=(10, 5))\n",
    "plt.plot(magnitudes, Power_BF_3d[:, weakest_signal_index], label=f'Power Bonferroni', marker='o')\n",
    "plt.plot(magnitudes, Power_Hochberg_3d[:, weakest_signal_index], label=f'Power Hochberg', marker='o')\n",
    "plt.xlabel('Signal Strength (mag)')\n",
    "plt.ylabel('Power')\n",
    "plt.title(f'Power vs. Weakest Signal Strength, Variable {weakest_signal_index}')\n",
    "plt.legend()\n",
    "plt.show()\n",
    "\n",
    "why_difference_3e = \"The difference originates from the fundamental differences of the p-values adjustment. Bonferroni method is a lot more conservative (of rejectinh the H0) while the Benjamini-Hochberg in contrary is more lenient and prone 'to find discoveries' (reject H0). As we can see in the two plots below the differences of the two methods are larger when having a weaker signal (variable 0) and smaller when having a strong signal. One might think of it as if the signal strength is 'outshining' the different p-values adjustment (The signal strength is to large for the adjustments to be very different).\\n\\nThe plot now confirms how the different methods in theory should work. Even though we've only run a simulation, not on real data. The Benjamini-Hochberg should theoretically, and have empirically, a stronger Power due to it's p-value adjustment being more prone to reject H0 and find discoveries.\"\n",
    "\n",
    "print(why_difference_3e)"
   ]
  },
  {
   "cell_type": "markdown",
   "id": "d1fd2b88-0811-4185-8b20-85d892e826ed",
   "metadata": {},
   "source": [
    "#### Task 3f)\n",
    "\n",
    "Now plot the FWER rates for both Bonferroni and Benamini-Hochberg adjustments against the signal strength `mag`. \n",
    "Which pattern can you see in these lines? Write your answer into the string variable `what_pattern_3f`. \n",
    "What causes these patterns? Write your answer into the string variable `why_pattern_3f`. "
   ]
  },
  {
   "cell_type": "code",
   "execution_count": 17,
   "id": "60098e8f-e63d-42d0-9490-c7e3c11c7f8d",
   "metadata": {},
   "outputs": [
    {
     "data": {
      "image/png": "[encoded data removed]",
      "text/plain": [
       "<Figure size 1000x500 with 1 Axes>"
      ]
     },
     "metadata": {},
     "output_type": "display_data"
    },
    {
     "name": "stdout",
     "output_type": "stream",
     "text": [
      "\n",
      "In the FWER rate vs. Signal Strength plot, we observe the following patterns:\n",
      "\n",
      "Bonferroni method, as we discussed earlier is a conservative method that adjusts the p-values solely based on how many hypothesis test that are carried out simultaneously (alpha / N). When running this simulation the Bonferroni method should, in theory, have a stable non-increasing FWER. Thera is some movement, but this is due to the stochastic nature of the simulations.\n",
      "\n",
      "\n",
      "Benjamini-Hochberg method/procedure on the other hand has a dynamic p-value adjustment (keep in mind that p-values are ordered from smallest to highest) where the method allows for a larger (which depends on the index of the ordered p-values) p-value to still be rejected for the 'latter tests'. What one then can figure out is that when the signal is stronger in combination with a more leninent decision rule the probability of rejecting a false H0 becomes larger --> FWER increases (and if the signal is weak from the begining the dynamic decision-rule will still won't be able to reject it --> Weaker signal strength = Lower FWER). \n",
      "\n"
     ]
    }
   ],
   "source": [
    "# Create line plot for FWER rates\n",
    "plt.figure(figsize=(10, 5))\n",
    "\n",
    "plt.plot(magnitudes, FWER_BF_3d, label='Bonferroni', marker='o')\n",
    "plt.plot(magnitudes, FWER_Hochberg_3d, label='Benjamini-Hochberg', marker='o')\n",
    "\n",
    "plt.xlabel('Signal Strength (mag)')\n",
    "plt.ylabel('FWER Rate')\n",
    "plt.title('FWER Rate vs. Signal Strength')\n",
    "plt.legend()\n",
    "\n",
    "plt.show()\n",
    "\n",
    "# Explanation for the patterns\n",
    "what_pattern_3f = \"\"\"\n",
    "In the FWER rate vs. Signal Strength plot, we observe the following patterns:\\n\n",
    "Bonferroni method, as we discussed earlier is a conservative method that adjusts the p-values solely based on how many hypothesis test that are carried out simultaneously (alpha / N). When running this simulation the Bonferroni method should, in theory, have a stable non-increasing FWER. Thera is some movement, but this is due to the stochastic nature of the simulations.\\n\\n\n",
    "Benjamini-Hochberg method/procedure on the other hand has a dynamic p-value adjustment (keep in mind that p-values are ordered from smallest to highest) where the method allows for a larger (which depends on the index of the ordered p-values) p-value to still be rejected for the 'latter tests'. What one then can figure out is that when the signal is stronger in combination with a more leninent decision rule the probability of rejecting a false H0 becomes larger --> FWER increases (and if the signal is weak from the begining the dynamic decision-rule will still won't be able to reject it --> Weaker signal strength = Lower FWER). \n",
    "\"\"\"\n",
    "print(what_pattern_3f)"
   ]
  },
  {
   "cell_type": "markdown",
   "id": "c1c6303a-7180-4fc7-998d-dee91ebc855b",
   "metadata": {},
   "source": [
    "## Part 4: Knock-off inference\n",
    "\n",
    "In Mullainathan, Sendhil, and Jann Spiess. 2017. \"Machine Learning: An Applied Econometric Approach.\" *Journal of Economic Perspectives*, 31 (2): 87-106, the authors compared several ML techniques for prediction of house prices (log of house prices). Here we will explore this data sets for variable selection (slightly cleaned by us a priori).\n",
    "First we load the data."
   ]
  },
  {
   "cell_type": "code",
   "execution_count": 18,
   "id": "5b9aee62-af44-4d55-94a7-2dbb60259d7e",
   "metadata": {},
   "outputs": [],
   "source": [
    "ahs_data = pd.read_csv(\"asst7_data_part4.csv\")\n",
    "y_4a = ahs_data['y_4a']\n",
    "X_4a = ahs_data.iloc[:,1:]\n",
    "X_varnames_4a = X_4a.columns"
   ]
  },
  {
   "cell_type": "markdown",
   "id": "dcdf4cf7-4a75-4595-884b-c6cd30042b22",
   "metadata": {},
   "source": [
    "### Task 4a)\n",
    "As usual when working with lasso, we rescale the variances of all predictors and demean all variables before training any model. Do that here."
   ]
  },
  {
   "cell_type": "code",
   "execution_count": 19,
   "id": "2dad7e2d-2373-4d34-9855-7377e66453ac",
   "metadata": {},
   "outputs": [],
   "source": [
    "scaler_4a = StandardScaler(with_mean=False)\n",
    "X_4a      = scaler_4a.fit_transform(X_4a)\n",
    "y_4a      = scaler_4a.fit_transform(np.array(y_4a).reshape((len(y_4a), 1)))"
   ]
  },
  {
   "cell_type": "markdown",
   "id": "b69f68e0-14fb-4ecc-a70c-ba6679f09dc8",
   "metadata": {},
   "source": [
    "### Task 4b)\n",
    "Now use *scikit-learn* to perform ten-fold cross-validation and save the resulting object as `lasso_cv_4b`.\n",
    "\n",
    "I have already written some code that saves the tuning parameter value selected through the one-S.E. rule as `alpha_1se`. Train a lasso model with this regularization parameter value and save this model as `lasso_fit_4b`. \n",
    "\n",
    "Lastly, extract the names of the selected variables (i.e. the variables corresponding to the non-zero coefficients of the lasso fit with chosen value for the regularization parameter $\\lambda$) into an object `selected_names_4b` and save the total number of selected variables as `num_selected_4b`."
   ]
  },
  {
   "cell_type": "code",
   "execution_count": 20,
   "id": "22c527a5-d115-4e7d-9e8a-2f2f8c2202eb",
   "metadata": {},
   "outputs": [
    {
     "name": "stdout",
     "output_type": "stream",
     "text": [
      "Selected Feature Names: Index(['PHONEother', 'KITCHEN2', 'MOBILTYPother', 'WINTEROVENother',\n",
      "       'WINTERELSPother', 'NEWC1', 'DISH2', 'WASH2', 'DRY2', 'REFR2',\n",
      "       ...\n",
      "       'OTHCLDother', 'NOWIREother', 'REGION2', 'REGION3', 'REGION4', 'METRO7',\n",
      "       'METROother', 'UNITSFMISSother', 'EXCLUSMISS0', 'HOWHMISSother'],\n",
      "      dtype='object', length=111)\n",
      "Number of Selected Features: 111\n"
     ]
    }
   ],
   "source": [
    "from sklearn.linear_model import LassoCV, Lasso\n",
    "from sklearn.model_selection import KFold\n",
    "\n",
    "# Implement cross-validation\n",
    "lasso_cv_4b = LassoCV(cv=10).fit(X_4a, y_4a.ravel())\n",
    "\n",
    "# Get tuning parameter obtained with one-S.E. rule.\n",
    "mean_mse      = np.mean(lasso_cv_4b.mse_path_, axis=1)\n",
    "stderr_mse    = np.std(lasso_cv_4b.mse_path_, axis=1)\n",
    "idx_alpha_1se = np.where(mean_mse <= (min(mean_mse) + stderr_mse))[0][-1]\n",
    "alpha_1se     = lasso_cv_4b.alphas_[idx_alpha_1se]\n",
    "\n",
    "# Train Lasso model with optimal tuning parameter \n",
    "lasso_fit_4b = Lasso(alpha=alpha_1se, fit_intercept=True).fit(X_4a[:,1:], y_4a.ravel()) # Fit intercept set to true. Here we only fit the data on X[:,1:] because the 1 column is all 0 when transformed in 4a).\n",
    "\n",
    "\n",
    "# Extract non-zero coefficients\n",
    "coef_nonzero      = np.where(lasso_fit_4b.coef_ != 0)[0]\n",
    "\n",
    "selected_names_4b = X_varnames_4a[coef_nonzero]\n",
    "num_selected_4b   = len(selected_names_4b)\n",
    "\n",
    "print(\"Selected Feature Names:\", selected_names_4b)\n",
    "print(\"Number of Selected Features:\", num_selected_4b)"
   ]
  },
  {
   "cell_type": "markdown",
   "id": "026747fd-a250-40f6-a79b-277020b2226b",
   "metadata": {},
   "source": [
    "### Task 4c) \n",
    "Next, we do controlled variable selection using knock-offs. In python, this is implemented via the `knockpy` package can be accessed through PyPI.\n",
    "The central fucntion for conducting knock-off variable selection is `KnockoffFilter()`, whose [documentation](https://amspector100.github.io/knockpy/apiref.html) provides you with an overview of its capabilities.\n",
    "\n",
    "First, call `KnockoffFilter()` to specify the setup of our variable selection exercise. More specifically, we want to base  \n",
    "The statistic that we want to use to do variable selection is\n",
    "$$\n",
    "Z_i  =max \\{\\lambda:\\beta_j(\\lambda) \\neq 0\\},\n",
    "$$\n",
    "as suggested in the seminal paper of Candes and Barber (2015). We also use the fixed-X option for knockoffs. Save the resulting specification object as `knockoff_filter_4c`.\n",
    "\n",
    "Second, apply the `forward()`-method to `knockoff_filter_4c` to run the knockoff filter. I order to select the correct arguments, recall that we want to select predictors of log houes prices `y_4a` from the whose set of predictor candidates `X_4a`. Now, we want to control the probability of making a mistake with an FDR of 15%.\n",
    "\n",
    "Lastly, save the names of the selected variables in an object `selected_names_4c` and the number of selected variables as `number_selected_4c`. How does the number selected variables in Task 4b compare to the number that you have now? Write you answer into the string variable `num_selected_compare_4c`.\n",
    "\n",
    "*Note:* The *knockpy* package deos not deal particularly well with large datasets. As a result, you might get a memory error. In this (likely) case, use fewer data points of `X_4a` and `y_4a`. To a certain degree, you can also free up unused memory using the `collect()` function in the `gc` package."
   ]
  },
  {
   "cell_type": "code",
   "execution_count": 21,
   "id": "242f92b8-09b3-4d7f-8389-e3b0a5921407",
   "metadata": {},
   "outputs": [
    {
     "name": "stdout",
     "output_type": "stream",
     "text": [
      "Selected Feature Names: Index(['PHONEother', 'MOBILTYPother', 'WINTERELSPother', 'NEWC1', 'DISH2',\n",
      "       'WASH2', 'DRY2', 'REFR2', 'BATHS', 'BEDRMS', 'DENS', 'FAMRM', 'HALFB',\n",
      "       'KITCH', 'LIVING', 'BUILT', 'LOT', 'UNITSF', 'CLIMB', 'DIRAC',\n",
      "       'AIRSYS2', 'WELDUSother', 'STEAM1', 'FRPLother', 'FPLWK2', 'FPINSother',\n",
      "       'DISPL2', 'TRASH2', 'TYPEother', 'ENOEAPP2', 'ECNTAIR1', 'EAIRCother',\n",
      "       'EHEATUT2', 'EHEATUTother', 'EFRIDGE2', 'EWASHR2', 'EWASHRother',\n",
      "       'EDISHWR2', 'EDISHWRother', 'ETRSHCP2', 'AIR', 'NUMAIR',\n",
      "       'SEWDISTPother', 'SEWDUSother', 'KEXCLUother', 'GARAGEother', 'BUSPER',\n",
      "       'EXCLUS', 'LAUNDY', 'OTHRUN', 'DRSHOP2', 'CONDO3', 'CELLAR4',\n",
      "       'CELLARother', 'WHNGET', 'FRSTOCother', 'PREOCCother', 'EBARother',\n",
      "       'OTBUP1', 'OTBUP2', 'NUNITS', 'PLUGSother', 'OWNLOTother', 'ROOMS',\n",
      "       'PLUMB2', 'ZADEQother', 'LEAKother', 'WTRHRLother', 'RATSother',\n",
      "       'EGOODother', 'HOWH', 'BSINK2', 'TOILET2', 'ELEVWK1', 'EVROD2',\n",
      "       'CRACKS2', 'EBOARDother', 'EBROKEother', 'ECRUMBother', 'EMISSWother',\n",
      "       'ESAGRother', 'HOLES2', 'FREEZEother', 'IFDRYother', 'IFSEWother',\n",
      "       'NUMSEW', 'NOWIREother', 'REGION2', 'REGION3', 'REGION4', 'METRO7',\n",
      "       'METROother', 'UNITSFMISSother', 'HOWHMISSother', 'NUMTLTMISS0'],\n",
      "      dtype='object')\n",
      "Number of Selected Features: 95\n",
      "There are 16 more features selected when running the ordinary LASSO. (16 fewer when using the knockoff-filter method).\n"
     ]
    }
   ],
   "source": [
    "import knockpy as kpy\n",
    "\n",
    "# 1.\n",
    "knockoff_filter = kpy.KnockoffFilter(\n",
    "    fstat = 'lasso', \n",
    "#    ksampler='fx'\n",
    ")\n",
    "\n",
    "\n",
    "\n",
    "# 2.\n",
    "knockoff_result_4c = knockoff_filter.forward(\n",
    "    X=X_4a,\n",
    "    y = y_4a,\n",
    "    fdr = 0.15)\n",
    "\n",
    "# knockoff_filter.seqstep_plot() # Visualise\n",
    "\n",
    "selected_names_4c = X_varnames_4a[knockoff_result_4c==1]\n",
    "number_selected_4c = int(sum(knockoff_result_4c))\n",
    "\n",
    "print(\"Selected Feature Names:\", selected_names_4c)\n",
    "print(\"Number of Selected Features:\", number_selected_4c)\n",
    "\n",
    "# 3. \n",
    "num_selected_compare_4c = f\"There are {num_selected_4b - number_selected_4c} more features selected when running the ordinary LASSO. ({num_selected_4b - number_selected_4c} fewer when using the knockoff-filter method).\"\n",
    "\n",
    "print(num_selected_compare_4c)"
   ]
  },
  {
   "cell_type": "code",
   "execution_count": 22,
   "id": "04abe2c3",
   "metadata": {},
   "outputs": [
    {
     "name": "stdout",
     "output_type": "stream",
     "text": [
      "The script has been run succesfully.\n"
     ]
    }
   ],
   "source": [
    "print(\"The script has been run succesfully.\")"
   ]
  }
 ],
 "metadata": {
  "kernelspec": {
   "display_name": "Python 3 (ipykernel)",
   "language": "python",
   "name": "python3"
  },
  "language_info": {
   "codemirror_mode": {
    "name": "ipython",
    "version": 3
   },
   "file_extension": ".py",
   "mimetype": "text/x-python",
   "name": "python",
   "nbconvert_exporter": "python",
   "pygments_lexer": "ipython3",
   "version": "3.11.5"
  }
 },
 "nbformat": 4,
 "nbformat_minor": 5
}
